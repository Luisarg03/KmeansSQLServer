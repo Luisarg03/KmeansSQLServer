{
 "cells": [
  {
   "cell_type": "code",
   "execution_count": 1,
   "metadata": {},
   "outputs": [],
   "source": [
    "import pandas as pd\n",
    "import numpy as np\n",
    "\n",
    "from sklearn.cluster import KMeans, MiniBatchKMeans\n",
    "from sklearn.decomposition import PCA\n",
    "\n",
    "import plotly.express as px"
   ]
  },
  {
   "cell_type": "code",
   "execution_count": 2,
   "metadata": {},
   "outputs": [],
   "source": [
    "variables_cluster = [\n",
    "        \"prods_cant\",\n",
    "        \"hb_flag\",\n",
    "        \"ope_tipo_operacion_SUELDO\",\n",
    "        \"desc_segmento_PREVISIONAL\",\n",
    "        \"pza_flag\",       \n",
    "        \"ctas_saldo_ars\",\n",
    "        \"ctas_cred_total_ars\",\n",
    "        \"inv_capital_ars\",\n",
    "        \"txe_cant\",\n",
    "        \"ctc_cant\",\n",
    "        \"txe_ctc_monto_ars\",\n",
    "        \"prestamos_personales_capintc\",\n",
    "]\n",
    "\n",
    "df = pd.read_csv('2001.csv', sep='|', decimal=',')"
   ]
  },
  {
   "cell_type": "code",
   "execution_count": 3,
   "metadata": {},
   "outputs": [],
   "source": [
    "### Normalizacion y reconvercion de tipos de datos ###\n",
    "### Normalizacion y reconvercion de tipos de datos ###\n",
    "\n",
    "\n",
    "def z_transform(tabla, variables):\n",
    "    for col in variables:\n",
    "        tabla[col] = tabla[col].astype(float) \n",
    "        tabla[col].values[tabla[col] <= 0] = np.NaN  \n",
    "        tabla[col] = tabla[col].apply(np.log)  \n",
    "        tabla[col] = (tabla[col] - tabla[col].mean()) / tabla[col].std() \n",
    "        tabla[col].values[tabla[col] > 3] = 3  \n",
    "        tabla[col].values[tabla[col] < -3] = -3 \n",
    "        tabla[col].fillna(tabla[col].min(), inplace=True) \n",
    "        tabla[col] = (tabla[col] - tabla[col].min()) / (tabla[col].max() - tabla[col].min()) \n",
    "    return tabla\n",
    "\n",
    "normalizar = [\n",
    "        \"ctas_saldo_ars\",\n",
    "        \"ctas_cred_total_ars\",\n",
    "        \"inv_capital_ars\",\n",
    "        \"txe_ctc_monto_ars\",\n",
    "        \"txe_cant\",\n",
    "        \"ctc_cant\",\n",
    "        \"prestamos_personales_capintc\",\n",
    "        ]\n",
    "\n",
    "\n",
    "df = z_transform(df,normalizar)\n",
    "\n",
    "prods_cant_map = {\n",
    "        0:0.00,\n",
    "        1:0.25,\n",
    "        2:0.50,\n",
    "        3:0.75,\n",
    "        4:1.00,\n",
    "        5:1.00,\n",
    "        6:1.00,\n",
    "    }\n",
    "    \n",
    "df[\"prods_cant\"] = df[\"prods_cant\"].map(prods_cant_map)\n",
    "\n",
    "cols = df.columns\n",
    "types = df.dtypes\n",
    "\n",
    "for i, k in zip(cols, types):\n",
    "    if k == 'int64':\n",
    "        df[i] = df[i].astype('int32')\n",
    "    elif k == 'float64':\n",
    "        df[i] = df[i].astype('float32')\n",
    "    else:\n",
    "        pass"
   ]
  },
  {
   "cell_type": "code",
   "execution_count": 4,
   "metadata": {},
   "outputs": [],
   "source": [
    "### Parametros del modelo ###\n",
    "### Parametros del modelo ###\n",
    "\n",
    "#km_param = KMeans(algorithm=\"auto\", copy_x=True, init=\"k-means++\", max_iter=300,\n",
    "#\t\t\t\t  n_clusters=8, n_init=10, n_jobs=-1, precompute_distances=\"auto\",\n",
    "#\t\t\t      random_state=10, tol=0.0001, verbose=0)\n",
    "\n",
    "km_param = MiniBatchKMeans(init=\"k-means++\",\n",
    "\t\t\t\t\t\t   max_iter=1000,\n",
    "\t\t\t\t\t\t   n_clusters=8,\n",
    "\t\t\t\t\t\t   n_init=10,\n",
    "\t\t\t\t\t\t   random_state=10,\n",
    "\t\t\t\t\t\t   tol=0.0001,\n",
    "\t\t\t\t\t\t   verbose=0,\n",
    "\t\t\t\t\t\t   batch_size=400)\n",
    "\n",
    "variables_cluster = [\n",
    "        \"prods_cant\",\n",
    "        \"hb_flag\",\n",
    "        \"ope_tipo_operacion_SUELDO\",\n",
    "        \"desc_segmento_PREVISIONAL\",\n",
    "        \"pza_flag\",       \n",
    "        \"ctas_saldo_ars\",\n",
    "        \"ctas_cred_total_ars\",\n",
    "        \"inv_capital_ars\",\n",
    "        \"txe_cant\",\n",
    "        \"ctc_cant\",\n",
    "        \"txe_ctc_monto_ars\",\n",
    "        \"prestamos_personales_capintc\",\n",
    "]"
   ]
  },
  {
   "cell_type": "code",
   "execution_count": 5,
   "metadata": {},
   "outputs": [],
   "source": [
    "km = km_param.fit(df[variables_cluster])"
   ]
  },
  {
   "cell_type": "code",
   "execution_count": 6,
   "metadata": {},
   "outputs": [],
   "source": [
    "clusters = km.predict(df[variables_cluster])"
   ]
  },
  {
   "cell_type": "code",
   "execution_count": 7,
   "metadata": {},
   "outputs": [],
   "source": [
    "df = df[variables_cluster]\n",
    "\n",
    "df[\"cluster\"] = clusters"
   ]
  },
  {
   "cell_type": "code",
   "execution_count": null,
   "metadata": {},
   "outputs": [],
   "source": [
    "clusters_dic = {\n",
    "\t\t\t\t6:1,\n",
    "\t\t\t\t2:2,\n",
    "\t\t\t\t1:3,\n",
    "\t\t\t\t4:4,\n",
    "\t\t\t\t5:5,\n",
    "\t\t\t\t0:6,\n",
    "\t\t\t\t7:7,\n",
    "\t\t\t\t3:8\n",
    "\t\t\t\t}\n",
    "\n",
    "\n",
    "df[\"cluster\"] = df[\"cluster\"].map(clusters_dic)"
   ]
  },
  {
   "cell_type": "code",
   "execution_count": 8,
   "metadata": {},
   "outputs": [],
   "source": [
    "# Plot plano\n",
    "\n",
    "df_pca = pd.DataFrame(data = PCA(n_components = 2).fit_transform(df.drop(columns = 'cluster')), columns = ['PCA_1', 'PCA_2'])\n",
    "df_pca['cluster'] = clusters\n",
    "#df_pca['cluster'] = df_pca['cluster'].map(clusters_dic)\n",
    "\n",
    "fig = px.scatter(df_pca.sample(10000), x = 'PCA_1', y = 'PCA_2', color = 'cluster')\n",
    "fig.write_html(\"ComparativaPlana2001.html\")\n",
    "\n",
    "del df_pca"
   ]
  },
  {
   "cell_type": "code",
   "execution_count": 9,
   "metadata": {},
   "outputs": [],
   "source": [
    "# Plot 3D\n",
    "\n",
    "df_pca = pd.DataFrame(data = PCA(n_components = 3).fit_transform(df.drop(columns = 'cluster')), columns = ['PCA_1', 'PCA_2', 'PCA_3'])\n",
    "df_pca['cluster'] = clusters\n",
    "#df_pca['cluster'] = df_pca['cluster'].map(clusters_dic)\n",
    "\n",
    "fig = px.scatter_3d(df_pca.sample(10000), x='PCA_1', y='PCA_2', z='PCA_3', color='cluster')\n",
    "fig.write_html(\"Comparativa3D2001.html\")"
   ]
  },
  {
   "cell_type": "code",
   "execution_count": null,
   "metadata": {},
   "outputs": [],
   "source": []
  }
 ],
 "metadata": {
  "kernelspec": {
   "display_name": "Python 3",
   "language": "python",
   "name": "python3"
  },
  "language_info": {
   "codemirror_mode": {
    "name": "ipython",
    "version": 3
   },
   "file_extension": ".py",
   "mimetype": "text/x-python",
   "name": "python",
   "nbconvert_exporter": "python",
   "pygments_lexer": "ipython3",
   "version": "3.8.5"
  }
 },
 "nbformat": 4,
 "nbformat_minor": 4
}
