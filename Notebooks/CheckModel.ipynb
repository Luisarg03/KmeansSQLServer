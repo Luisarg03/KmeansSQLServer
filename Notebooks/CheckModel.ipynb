{
 "cells": [
  {
   "cell_type": "code",
   "execution_count": null,
   "metadata": {},
   "outputs": [],
   "source": [
    "import pandas as pd\n",
    "import numpy as np\n",
    "\n",
    "from sklearn.cluster import KMeans, MiniBatchKMeans\n",
    "\n",
    "import seaborn as sns"
   ]
  },
  {
   "cell_type": "code",
   "execution_count": null,
   "metadata": {},
   "outputs": [],
   "source": [
    "df = pd.read_csv('2001.csv', sep='|', decimal=',')\n",
    "df_ori = df.copy()\n",
    "df.head()"
   ]
  },
  {
   "cell_type": "code",
   "execution_count": null,
   "metadata": {},
   "outputs": [],
   "source": [
    "### Normalizacion y reconvercion de tipos de datos ###\n",
    "### Normalizacion y reconvercion de tipos de datos ###\n",
    "\n",
    "\n",
    "def z_transform(tabla, variables):\n",
    "    for col in variables:\n",
    "        tabla[col] = tabla[col].astype(float) \n",
    "        tabla[col].values[tabla[col] <= 0] = np.NaN  \n",
    "        tabla[col] = tabla[col].apply(np.log)  \n",
    "        tabla[col] = (tabla[col] - tabla[col].mean()) / tabla[col].std() \n",
    "        tabla[col].values[tabla[col] > 3] = 3  \n",
    "        tabla[col].values[tabla[col] < -3] = -3 \n",
    "        tabla[col].fillna(tabla[col].min(), inplace=True) \n",
    "        tabla[col] = (tabla[col] - tabla[col].min()) / (tabla[col].max() - tabla[col].min()) \n",
    "    return tabla\n",
    "\n",
    "normalizar = [\n",
    "        \"ctas_saldo_ars\",\n",
    "        \"ctas_cred_total_ars\",\n",
    "        \"inv_capital_ars\",\n",
    "        \"txe_ctc_monto_ars\",\n",
    "        \"txe_cant\",\n",
    "        \"ctc_cant\",\n",
    "        \"prestamos_personales_capintc\",\n",
    "        ]\n",
    "\n",
    "\n",
    "df = z_transform(df,normalizar)\n",
    "\n",
    "prods_cant_map = {\n",
    "        0:0.00,\n",
    "        1:0.25,\n",
    "        2:0.50,\n",
    "        3:0.75,\n",
    "        4:1.00,\n",
    "        5:1.00,\n",
    "        6:1.00,\n",
    "    }\n",
    "    \n",
    "df[\"prods_cant\"] = df[\"prods_cant\"].map(prods_cant_map)\n",
    "\n",
    "cols = df.columns\n",
    "types = df.dtypes\n",
    "\n",
    "for i, k in zip(cols, types):\n",
    "    if k == 'int64':\n",
    "        df[i] = df[i].astype('int32')\n",
    "    elif k == 'float64':\n",
    "        df[i] = df[i].astype('float32')\n",
    "    else:\n",
    "        pass"
   ]
  },
  {
   "cell_type": "code",
   "execution_count": null,
   "metadata": {},
   "outputs": [],
   "source": [
    "### Parametros del modelo ###\n",
    "### Parametros del modelo ###\n",
    "\n",
    "#km_param = KMeans(algorithm=\"auto\", copy_x=True, init=\"k-means++\", max_iter=100,\n",
    "#\t\t\t\t  n_clusters=8, n_init=10, precompute_distances=\"auto\",\n",
    "#\t\t\t      random_state=10, tol=0.0001, verbose=0)\n",
    "\n",
    "km_param = MiniBatchKMeans(init=\"k-means++\",\n",
    "\t\t\t\t\t\t   max_iter=1000,\n",
    "\t\t\t\t\t\t   n_clusters=8,\n",
    "\t\t\t\t\t\t   n_init=10,\n",
    "\t\t\t\t\t\t   random_state=10,\n",
    "\t\t\t\t\t\t   tol=0.0001,\n",
    "\t\t\t\t\t\t   verbose=0,\n",
    "\t\t\t\t\t\t   batch_size=400)\n",
    "\n",
    "variables_cluster = [\n",
    "        \"prods_cant\",\n",
    "        \"hb_flag\",\n",
    "        \"ope_tipo_operacion_SUELDO\",\n",
    "        \"desc_segmento_PREVISIONAL\",\n",
    "        \"pza_flag\",       \n",
    "        \"ctas_saldo_ars\",\n",
    "        \"ctas_cred_total_ars\",\n",
    "        \"inv_capital_ars\",\n",
    "        \"txe_cant\",\n",
    "        \"ctc_cant\",\n",
    "        \"txe_ctc_monto_ars\",\n",
    "        \"prestamos_personales_capintc\",\n",
    "]"
   ]
  },
  {
   "cell_type": "code",
   "execution_count": null,
   "metadata": {},
   "outputs": [],
   "source": [
    "km = km_param.fit(df[variables_cluster])"
   ]
  },
  {
   "cell_type": "code",
   "execution_count": null,
   "metadata": {},
   "outputs": [],
   "source": [
    "clusters = km.predict(df[variables_cluster])"
   ]
  },
  {
   "cell_type": "code",
   "execution_count": null,
   "metadata": {},
   "outputs": [],
   "source": [
    "df[\"cluster\"] = clusters\n",
    "df_ori[\"cluster\"] = clusters\n",
    "\n",
    "# Control de porcentaje de agrupacion en cada cluster\n",
    "check = 100*(df.groupby(['cluster']).agg(['count'])/len(df))\n",
    "check['desc_segmento_PREVISIONAL']"
   ]
  },
  {
   "cell_type": "code",
   "execution_count": null,
   "metadata": {},
   "outputs": [],
   "source": [
    "# Reorganizacion de ubicacion de Clusters\n",
    "clusters_dic = {\n",
    "                5:1,\n",
    "                4:2,\n",
    "                1:3,\n",
    "                3:4,\n",
    "                2:5,\n",
    "                6:6,\n",
    "                7:7,\n",
    "                8:8\n",
    "                }"
   ]
  },
  {
   "cell_type": "code",
   "execution_count": null,
   "metadata": {},
   "outputs": [],
   "source": [
    "df[\"cluster\"] = df[\"cluster\"].map(clusters_dic)\n",
    "df_ori[\"cluster\"] = df_ori[\"cluster\"].map(clusters_dic)"
   ]
  },
  {
   "cell_type": "code",
   "execution_count": null,
   "metadata": {},
   "outputs": [],
   "source": [
    "df.reset_index(inplace=True, drop=True)"
   ]
  },
  {
   "cell_type": "code",
   "execution_count": null,
   "metadata": {},
   "outputs": [],
   "source": [
    "len(df)"
   ]
  },
  {
   "cell_type": "code",
   "execution_count": null,
   "metadata": {},
   "outputs": [],
   "source": [
    "check = 100*(df.groupby(['cluster']).agg(['count'])/len(df))"
   ]
  },
  {
   "cell_type": "code",
   "execution_count": null,
   "metadata": {},
   "outputs": [],
   "source": [
    "check['desc_segmento_PREVISIONAL']"
   ]
  },
  {
   "cell_type": "code",
   "execution_count": null,
   "metadata": {},
   "outputs": [],
   "source": [
    "df_ori_desc = df_ori.groupby('cluster')[variables_cluster].mean()\n",
    "df_ori_desc['tasa'] = df_ori.groupby('cluster').size() / df_ori.shape[0]\n",
    "df_ori_desc_todos = df_ori[variables_cluster].mean().to_frame().transpose()\n",
    "df_ori_desc_todos.index.name = 'cluster'\n",
    "df_ori_desc_todos['tasa'] = len(df_ori) / len(clusters_dic) / len(df_ori) \n",
    "df_ori_desc_todos = df_ori_desc_todos.append(df_ori_desc)"
   ]
  },
  {
   "cell_type": "code",
   "execution_count": null,
   "metadata": {},
   "outputs": [],
   "source": [
    "df_ori_desc_todos.style.background_gradient(cmap = sns.light_palette(\"green\", as_cmap = True)).format(\"{:,.2f}\")"
   ]
  }
 ],
 "metadata": {
  "kernelspec": {
   "display_name": "Python 3",
   "language": "python",
   "name": "python3"
  },
  "language_info": {
   "codemirror_mode": {
    "name": "ipython",
    "version": 3
   },
   "file_extension": ".py",
   "mimetype": "text/x-python",
   "name": "python",
   "nbconvert_exporter": "python",
   "pygments_lexer": "ipython3",
   "version": "3.8.5"
  }
 },
 "nbformat": 4,
 "nbformat_minor": 4
}
